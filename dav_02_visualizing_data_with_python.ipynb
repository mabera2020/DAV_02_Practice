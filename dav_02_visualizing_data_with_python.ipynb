{
 "cells": [
  {
   "cell_type": "markdown",
   "metadata": {
    "colab_type": "text",
    "id": "S2qiEtny-FlH"
   },
   "source": [
    "# <font color='maroon'>Visualizing Data using Python</font>\n",
    "\n",
    "In this notebook, we learn how use the Numpy, Matplotlib, Pandas and Seaborn libraries to visualize data and functions. We can perform all plotting functions on data structures like arrays provided by Numpy and data structures likes generic lists. Matplotlib is used with the Numpy library. Pandas allows us to plot directly using dataframes. We also introduce the Seaborn library which is useful for statistical visualization and builds on Matplotlib.\n",
    "\n",
    "<p></p>\n",
    "We also learn how to get help on the libraries and functions necessary to create visualizations, or to use the libraries in general. Begin with the <b> Getting Help</b> section then continue to the visualization section beginning from the <b> Getting Started</b> section.\n",
    "\n",
    " "
   ]
  },
  {
   "cell_type": "markdown",
   "metadata": {
    "colab_type": "text",
    "id": "u01hPhSS-FlP"
   },
   "source": [
    "## Getting Help"
   ]
  },
  {
   "cell_type": "markdown",
   "metadata": {
    "colab_type": "text",
    "id": "XIjmxUN5-FlU"
   },
   "source": [
    "You can find out more about a module or function or data type with the following ways."
   ]
  },
  {
   "cell_type": "code",
   "execution_count": 83,
   "metadata": {},
   "outputs": [],
   "source": [
    "import pandas as pd\n"
   ]
  },
  {
   "cell_type": "code",
   "execution_count": 84,
   "metadata": {
    "colab": {},
    "colab_type": "code",
    "id": "ezVDISCT-FlZ"
   },
   "outputs": [
    {
     "ename": "NameError",
     "evalue": "name 'pandas' is not defined",
     "output_type": "error",
     "traceback": [
      "\u001b[1;31m---------------------------------------------------------------------------\u001b[0m",
      "\u001b[1;31mNameError\u001b[0m                                 Traceback (most recent call last)",
      "\u001b[1;32m<ipython-input-84-542916c8d153>\u001b[0m in \u001b[0;36m<module>\u001b[1;34m\u001b[0m\n\u001b[1;32m----> 1\u001b[1;33m \u001b[0mhelp\u001b[0m\u001b[1;33m(\u001b[0m\u001b[0mpandas\u001b[0m\u001b[1;33m)\u001b[0m \u001b[1;31m#use pandas or the alias name given for the libary e.g. pd if import pandas as pd\u001b[0m\u001b[1;33m\u001b[0m\u001b[1;33m\u001b[0m\u001b[0m\n\u001b[0m",
      "\u001b[1;31mNameError\u001b[0m: name 'pandas' is not defined"
     ]
    }
   ],
   "source": [
    "help(pandas) #use pandas or the alias name given for the libary e.g. pd if import pandas as pd"
   ]
  },
  {
   "cell_type": "code",
   "execution_count": 85,
   "metadata": {
    "colab": {},
    "colab_type": "code",
    "id": "-OPJL11t-Flu"
   },
   "outputs": [
    {
     "name": "stdout",
     "output_type": "stream",
     "text": [
      "Object `pandas` not found.\n"
     ]
    }
   ],
   "source": [
    "pandas?"
   ]
  },
  {
   "cell_type": "code",
   "execution_count": 86,
   "metadata": {
    "colab": {},
    "colab_type": "code",
    "id": "KpQOHMhe-Fl8"
   },
   "outputs": [
    {
     "ename": "NameError",
     "evalue": "name 'pandas' is not defined",
     "output_type": "error",
     "traceback": [
      "\u001b[1;31m---------------------------------------------------------------------------\u001b[0m",
      "\u001b[1;31mNameError\u001b[0m                                 Traceback (most recent call last)",
      "\u001b[1;32m<ipython-input-86-4d3ccab4dfcd>\u001b[0m in \u001b[0;36m<module>\u001b[1;34m\u001b[0m\n\u001b[1;32m----> 1\u001b[1;33m \u001b[0mdir\u001b[0m\u001b[1;33m(\u001b[0m\u001b[0mpandas\u001b[0m\u001b[1;33m)\u001b[0m\u001b[1;33m\u001b[0m\u001b[1;33m\u001b[0m\u001b[0m\n\u001b[0m",
      "\u001b[1;31mNameError\u001b[0m: name 'pandas' is not defined"
     ]
    }
   ],
   "source": [
    "dir(pandas)"
   ]
  },
  {
   "cell_type": "markdown",
   "metadata": {
    "colab_type": "text",
    "id": "kYsJKX9U-FmL"
   },
   "source": [
    "`dir` returns a list of attributes and methods associated with the object."
   ]
  },
  {
   "cell_type": "markdown",
   "metadata": {
    "colab_type": "text",
    "id": "UBNwGtcb-FmP"
   },
   "source": [
    "## <font color='black'>Getting Started</font>"
   ]
  },
  {
   "cell_type": "markdown",
   "metadata": {
    "colab_type": "text",
    "id": "hoIhgTWB-FmU"
   },
   "source": [
    "To get started, we first import the libraries we need into our namespace. \n",
    "We import `matplotlib`, more specifically, we're going to import `pyplot` which lets us easily use `numpy` and `matplotlib` together.\n",
    "\n",
    "<p></p>\n",
    "As you may have seen when working with the previous notebook, we can import the attributes of the library we will be using as shown below."
   ]
  },
  {
   "cell_type": "code",
   "execution_count": null,
   "metadata": {
    "colab": {},
    "colab_type": "code",
    "id": "jCCTKTU6-FmY"
   },
   "outputs": [],
   "source": [
    "from matplotlib import pyplot"
   ]
  },
  {
   "cell_type": "markdown",
   "metadata": {
    "colab_type": "text",
    "id": "Gp4omO6o-Fmn"
   },
   "source": [
    "Alternatively, we can import the library while renaming it with the standard alias `plt`."
   ]
  },
  {
   "cell_type": "code",
   "execution_count": 87,
   "metadata": {
    "colab": {},
    "colab_type": "code",
    "id": "F2AJcW2F-Fms"
   },
   "outputs": [],
   "source": [
    "#import matplotlib.pyplot as plt # uncomment to run"
   ]
  },
  {
   "cell_type": "markdown",
   "metadata": {
    "colab_type": "text",
    "id": "3931YGZE-Fm5"
   },
   "source": [
    "When plotting a graph with `matplotlib`, you decide how you want to view the plot. You can use:\n",
    "0. `pyplot.show()`: see the plot immediately\n",
    "0. `pyplot.savefig()`: save the plot to a file"
   ]
  },
  {
   "cell_type": "markdown",
   "metadata": {
    "colab_type": "text",
    "collapsed": true,
    "id": "AyaqWqbG-Fm-"
   },
   "source": [
    "You can also plot the graph _directly in the notebook_."
   ]
  },
  {
   "cell_type": "code",
   "execution_count": 88,
   "metadata": {
    "colab": {},
    "colab_type": "code",
    "id": "nmB8MVv5-FnC"
   },
   "outputs": [],
   "source": [
    "%matplotlib inline"
   ]
  },
  {
   "cell_type": "markdown",
   "metadata": {
    "colab_type": "text",
    "id": "Jf53hIFb-FnY"
   },
   "source": [
    "The `pandas` library also provides plotting functionality, which we can use directly on the dataframes we learned about earlier.\n",
    "\n",
    "We import the pandas library and rename it to `pd`,  because `pd` is shorter to type than `pandas`. Similarly, we import `seaborn` library."
   ]
  },
  {
   "cell_type": "code",
   "execution_count": 89,
   "metadata": {
    "colab": {},
    "colab_type": "code",
    "id": "PGaPXnDw-Fnh"
   },
   "outputs": [],
   "source": [
    "import pandas as pd\n",
    "import seaborn as sns"
   ]
  },
  {
   "cell_type": "markdown",
   "metadata": {
    "colab_type": "text",
    "id": "WPY9e8R--Fnt"
   },
   "source": [
    "## Plotting Data"
   ]
  },
  {
   "cell_type": "markdown",
   "metadata": {
    "colab_type": "text",
    "id": "px_01ItU-Fnx"
   },
   "source": [
    "### Line graphs\n",
    "\n",
    "A line graph is a great way to visualize trends and variations in data over a period of time. Suppose you have the following data on Bitcoin. You'd like to see how the price of Bitcoin varies over time. Let's start by loading the data and understanding its contents."
   ]
  },
  {
   "cell_type": "code",
   "execution_count": 90,
   "metadata": {
    "colab": {},
    "colab_type": "code",
    "id": "xYCmrmRJ-Fn1"
   },
   "outputs": [],
   "source": [
    "bitcoin = pd.read_csv('coindesk-bpi-USD-close_data-2017-11-22_2017-11-23.csv', sep=',') #load the data"
   ]
  },
  {
   "cell_type": "code",
   "execution_count": 91,
   "metadata": {
    "colab": {},
    "colab_type": "code",
    "id": "Ztw8QHgj-FoB"
   },
   "outputs": [
    {
     "data": {
      "text/html": [
       "<div>\n",
       "<style scoped>\n",
       "    .dataframe tbody tr th:only-of-type {\n",
       "        vertical-align: middle;\n",
       "    }\n",
       "\n",
       "    .dataframe tbody tr th {\n",
       "        vertical-align: top;\n",
       "    }\n",
       "\n",
       "    .dataframe thead th {\n",
       "        text-align: right;\n",
       "    }\n",
       "</style>\n",
       "<table border=\"1\" class=\"dataframe\">\n",
       "  <thead>\n",
       "    <tr style=\"text-align: right;\">\n",
       "      <th></th>\n",
       "      <th>Date</th>\n",
       "      <th>Close Price</th>\n",
       "    </tr>\n",
       "  </thead>\n",
       "  <tbody>\n",
       "    <tr>\n",
       "      <td>2206</td>\n",
       "      <td>2017-11-23 12:47:00</td>\n",
       "      <td>8169.01</td>\n",
       "    </tr>\n",
       "    <tr>\n",
       "      <td>2207</td>\n",
       "      <td>2017-11-23 12:48:00</td>\n",
       "      <td>8172.60</td>\n",
       "    </tr>\n",
       "    <tr>\n",
       "      <td>2208</td>\n",
       "      <td>2017-11-23 12:49:00</td>\n",
       "      <td>8174.09</td>\n",
       "    </tr>\n",
       "    <tr>\n",
       "      <td>2209</td>\n",
       "      <td>This data was produced from the CoinDesk price...</td>\n",
       "      <td>NaN</td>\n",
       "    </tr>\n",
       "    <tr>\n",
       "      <td>2210</td>\n",
       "      <td>http://www.coindesk.com/price/</td>\n",
       "      <td>NaN</td>\n",
       "    </tr>\n",
       "  </tbody>\n",
       "</table>\n",
       "</div>"
      ],
      "text/plain": [
       "                                                   Date  Close Price\n",
       "2206                                2017-11-23 12:47:00      8169.01\n",
       "2207                                2017-11-23 12:48:00      8172.60\n",
       "2208                                2017-11-23 12:49:00      8174.09\n",
       "2209  This data was produced from the CoinDesk price...          NaN\n",
       "2210                     http://www.coindesk.com/price/          NaN"
      ]
     },
     "execution_count": 91,
     "metadata": {},
     "output_type": "execute_result"
    }
   ],
   "source": [
    "bitcoin.tail() #observe the data to understand variables present, in this case, the bottom end of the dataset"
   ]
  },
  {
   "cell_type": "markdown",
   "metadata": {
    "colab_type": "text",
    "id": "sWX3SRJF-FoT"
   },
   "source": [
    "From the previous command, note how there are 3 columns: an index, Date and Close Price of the bitcoin at the date and time indicated, except for the last 2 rows. Let's continue observing the data. You can add cells to observe the data beyond the steps we've given you e.g. What type of data is in each column? What is the frequency of data collection? How many rows and columns does the dataset have? Run the command in the cell below to find out."
   ]
  },
  {
   "cell_type": "code",
   "execution_count": 92,
   "metadata": {
    "colab": {},
    "colab_type": "code",
    "id": "ZFFO9x9m-FoX"
   },
   "outputs": [
    {
     "data": {
      "text/plain": [
       "(2211, 2)"
      ]
     },
     "execution_count": 92,
     "metadata": {},
     "output_type": "execute_result"
    }
   ],
   "source": [
    "#enter a command to find out shape of the dataset.\n",
    "bitcoin.shape"
   ]
  },
  {
   "cell_type": "markdown",
   "metadata": {
    "colab_type": "text",
    "id": "A0zeXM0p-Foi"
   },
   "source": [
    "Now that we understand how the data is organised, we'll explore what it tells us about bitcoins using different visualization tools. we will see how the price of bitcoin varied over the time period indicated in the file using a line graph. \n",
    "<p></p>\n",
    "To plot a line graph, we need at least two variables for the x and y axes. In this case, we need the time and bitcoin closing price. If you checked the data types for the dataset, you should have seen that the <i>Date</i> column is of the type <b>str</b>. It is cumbersome to plot strings so first, we need to change the <i> Date</i> from str to something more user-friendly. For this example, we will use time. \n",
    "\n"
   ]
  },
  {
   "cell_type": "code",
   "execution_count": 93,
   "metadata": {
    "colab": {},
    "colab_type": "code",
    "id": "W22ORZYT-Fon"
   },
   "outputs": [],
   "source": [
    "bitcoin['Date'] = pd.to_datetime(bitcoin['Date'], format='%Y-%m-%d %H:%M',errors ='coerce') \n",
    "# line above converts Date from string to timestamp format"
   ]
  },
  {
   "cell_type": "markdown",
   "metadata": {
    "colab_type": "text",
    "id": "ZjALCwJ0-Foy"
   },
   "source": [
    "Recall when you used bitcoin.tail(), there were two rows at the end were just information about the data but not actual bitcoin prices. Converting from string to Timestamp as done above did not remove these values. Thereofore, before proceeding to plot anything, we need to remove these values."
   ]
  },
  {
   "cell_type": "code",
   "execution_count": 94,
   "metadata": {
    "colab": {},
    "colab_type": "code",
    "id": "9Z5-QTa8-Fo5"
   },
   "outputs": [
    {
     "data": {
      "text/html": [
       "<div>\n",
       "<style scoped>\n",
       "    .dataframe tbody tr th:only-of-type {\n",
       "        vertical-align: middle;\n",
       "    }\n",
       "\n",
       "    .dataframe tbody tr th {\n",
       "        vertical-align: top;\n",
       "    }\n",
       "\n",
       "    .dataframe thead th {\n",
       "        text-align: right;\n",
       "    }\n",
       "</style>\n",
       "<table border=\"1\" class=\"dataframe\">\n",
       "  <thead>\n",
       "    <tr style=\"text-align: right;\">\n",
       "      <th></th>\n",
       "      <th>Date</th>\n",
       "      <th>Close Price</th>\n",
       "    </tr>\n",
       "  </thead>\n",
       "  <tbody>\n",
       "    <tr>\n",
       "      <td>2206</td>\n",
       "      <td>2017-11-23 12:47:00</td>\n",
       "      <td>8169.01</td>\n",
       "    </tr>\n",
       "    <tr>\n",
       "      <td>2207</td>\n",
       "      <td>2017-11-23 12:48:00</td>\n",
       "      <td>8172.60</td>\n",
       "    </tr>\n",
       "    <tr>\n",
       "      <td>2208</td>\n",
       "      <td>2017-11-23 12:49:00</td>\n",
       "      <td>8174.09</td>\n",
       "    </tr>\n",
       "    <tr>\n",
       "      <td>2209</td>\n",
       "      <td>NaT</td>\n",
       "      <td>NaN</td>\n",
       "    </tr>\n",
       "    <tr>\n",
       "      <td>2210</td>\n",
       "      <td>NaT</td>\n",
       "      <td>NaN</td>\n",
       "    </tr>\n",
       "  </tbody>\n",
       "</table>\n",
       "</div>"
      ],
      "text/plain": [
       "                    Date  Close Price\n",
       "2206 2017-11-23 12:47:00      8169.01\n",
       "2207 2017-11-23 12:48:00      8172.60\n",
       "2208 2017-11-23 12:49:00      8174.09\n",
       "2209                 NaT          NaN\n",
       "2210                 NaT          NaN"
      ]
     },
     "execution_count": 94,
     "metadata": {},
     "output_type": "execute_result"
    }
   ],
   "source": [
    "bitcoin.tail() #conversion to timestamp did not remove the values but still changed them because of the errors part of the code"
   ]
  },
  {
   "cell_type": "code",
   "execution_count": 95,
   "metadata": {
    "colab": {},
    "colab_type": "code",
    "id": "Qdp-luvS-FpJ"
   },
   "outputs": [],
   "source": [
    "bitcoin_clean = bitcoin.dropna(axis =0 , how ='any') #removes rows that are not a number."
   ]
  },
  {
   "cell_type": "markdown",
   "metadata": {
    "colab_type": "text",
    "id": "0W_Tijg6-Fpc"
   },
   "source": [
    "Now that we have: 1) converted Date from strings to timestamp and 2) removed non-numeric data irrelevant for bitcoin price, we can proceed to plot our line graph and see how bitcoin prices changed between November 22 and November 23, 2017."
   ]
  },
  {
   "cell_type": "code",
   "execution_count": 96,
   "metadata": {
    "colab": {},
    "colab_type": "code",
    "id": "jbYte1-O-Fph"
   },
   "outputs": [
    {
     "data": {
      "text/plain": [
       "[<matplotlib.lines.Line2D at 0x2034d63fa48>]"
      ]
     },
     "execution_count": 96,
     "metadata": {},
     "output_type": "execute_result"
    },
    {
     "data": {
      "image/png": "[encoded data removed]",
      "text/plain": [
       "<Figure size 1440x720 with 1 Axes>"
      ]
     },
     "metadata": {
      "needs_background": "light"
     },
     "output_type": "display_data"
    }
   ],
   "source": [
    "time_= bitcoin_clean['Date'].tolist()               #store the timestamp in a separate list to be used later\n",
    "pyplot.figure(figsize=(20,10))               # set size of plot figure\n",
    "pyplot.plot(time_,                           # plto the time (x-axis) against\n",
    "            bitcoin_clean['Close Price'],   # bitcoin closing price (y-axis)\n",
    "            'r--')                          # plot a dashed red line "
   ]
  },
  {
   "cell_type": "markdown",
   "metadata": {
    "colab_type": "text",
    "id": "vJUq5lnz-Fpq"
   },
   "source": [
    "Over the time period indicated, the price of Bitcoin has fluctuated around a little bit over 200USD."
   ]
  },
  {
   "cell_type": "markdown",
   "metadata": {
    "colab_type": "text",
    "id": "QqBW16k9-Fpu"
   },
   "source": [
    "### Bar graphs\n",
    "\n",
    "We can plot the same numerical data with a bar graph.\n",
    "\n"
   ]
  },
  {
   "cell_type": "code",
   "execution_count": 97,
   "metadata": {
    "colab": {},
    "colab_type": "code",
    "id": "n6aF1SXY-Fpx"
   },
   "outputs": [
    {
     "data": {
      "text/plain": [
       "<BarContainer object of 2209 artists>"
      ]
     },
     "execution_count": 97,
     "metadata": {},
     "output_type": "execute_result"
    },
    {
     "data": {
      "image/png": "[encoded data removed]",
      "text/plain": [
       "<Figure size 1440x720 with 1 Axes>"
      ]
     },
     "metadata": {
      "needs_background": "light"
     },
     "output_type": "display_data"
    }
   ],
   "source": [
    "pyplot.figure(figsize=(20,10))               # set size of plot figure\n",
    "pyplot.bar(time_,                            # x-axis\n",
    "           bitcoin_clean['Close Price'])     # y-axis\n",
    "                       "
   ]
  },
  {
   "cell_type": "markdown",
   "metadata": {
    "colab_type": "text",
    "id": "Weyf06mb-FqH"
   },
   "source": [
    "This bar graph is a bit cluttered because a bar is given for each day of the month for which the price of bitcoin was collected. Avoid using a bar graph if you have many data points to plot. Bar graphs can also be used to plot categorical data using bar graphs. "
   ]
  },
  {
   "cell_type": "markdown",
   "metadata": {
    "colab_type": "text",
    "id": "z9XXu4vN-FqK"
   },
   "source": [
    "### Histograms"
   ]
  },
  {
   "cell_type": "markdown",
   "metadata": {
    "colab_type": "text",
    "id": "fiddfH_O-FqO"
   },
   "source": [
    "We can use histograms to see how the data is distributed across intervals. In this example, we group the price of Bitcoin into intervals on the horizontal axis while the vertical axis shows how many minutes recorded prices in that interval. We see peaks in the intervals around 8150USD and 8250USD."
   ]
  },
  {
   "cell_type": "code",
   "execution_count": 98,
   "metadata": {
    "colab": {},
    "colab_type": "code",
    "id": "VboGN5Bs-FqR"
   },
   "outputs": [
    {
     "data": {
      "text/plain": [
       "Text(0.5, 0, 'Close price')"
      ]
     },
     "execution_count": 98,
     "metadata": {},
     "output_type": "execute_result"
    },
    {
     "data": {
      "image/png": "[encoded data removed]",
      "text/plain": [
       "<Figure size 720x576 with 1 Axes>"
      ]
     },
     "metadata": {
      "needs_background": "light"
     },
     "output_type": "display_data"
    }
   ],
   "source": [
    "bitcoin.plot(kind='hist',      # choose a plot type for pandas dataframe object\n",
    "             figsize=(10,8))   # set the figure size directly with pandas plot\n",
    "pyplot.xlabel('Close price')   # label the horizontal axis"
   ]
  },
  {
   "cell_type": "markdown",
   "metadata": {
    "colab_type": "text",
    "id": "6WL8kA9M-Fqd"
   },
   "source": [
    "### Scatter plots"
   ]
  },
  {
   "cell_type": "markdown",
   "metadata": {
    "colab_type": "text",
    "id": "HlS83Q5Q-Fqf"
   },
   "source": [
    "Scatter plots are used to study relationships between data points in a dataset. We use them to look for correlations between data points. We plot the data points in pairs, with the independent data point usually on the x-axis and the dependent data point on the y-axis.  \n",
    "\n",
    "The scatter plot below fails to show any correlation between the bitcoin price and time. "
   ]
  },
  {
   "cell_type": "code",
   "execution_count": 99,
   "metadata": {
    "colab": {},
    "colab_type": "code",
    "id": "jFaEPMAZ-Fqi"
   },
   "outputs": [
    {
     "data": {
      "text/plain": [
       "<matplotlib.collections.PathCollection at 0x2034f64d048>"
      ]
     },
     "execution_count": 99,
     "metadata": {},
     "output_type": "execute_result"
    },
    {
     "data": {
      "image/png": "[encoded data removed]",
      "text/plain": [
       "<Figure size 720x576 with 1 Axes>"
      ]
     },
     "metadata": {
      "needs_background": "light"
     },
     "output_type": "display_data"
    }
   ],
   "source": [
    "pyplot.figure(figsize=(10,8))\n",
    "pyplot.scatter(time_,\n",
    "               bitcoin_clean['Close Price'],\n",
    "               s=30, \n",
    "               c='green', \n",
    "               marker='o', \n",
    "               alpha=.5)"
   ]
  },
  {
   "cell_type": "markdown",
   "metadata": {
    "colab_type": "text",
    "id": "NFeKohBY-Fqs"
   },
   "source": [
    "The two lists in the first arguments of the scatter function are the x and y values. And the additional arguments are:\n",
    "\n",
    "    `s=5`: sets the size of the dots to 5 pixels\n",
    "    `green`:  will colour the dots green. Choose other options like 'r'\n",
    "    `marker='o'`: will draw a circle for each data point plotted\n",
    "    `alpha=0.2`: will change the transparency of the line (0<=alpha<=1).\n",
    "    \n",
    "<p></p>\n",
    "To learn more about the scatter function, you can uncomment and run the cell below.\n",
    "\n",
    "    "
   ]
  },
  {
   "cell_type": "code",
   "execution_count": 100,
   "metadata": {
    "colab": {},
    "colab_type": "code",
    "id": "AQZm1ROw-Fqw"
   },
   "outputs": [],
   "source": [
    "pyplot.scatter?"
   ]
  },
  {
   "cell_type": "code",
   "execution_count": 101,
   "metadata": {
    "colab": {},
    "colab_type": "code",
    "id": "YVGscTwS-Fq8"
   },
   "outputs": [
    {
     "name": "stdout",
     "output_type": "stream",
     "text": [
      "Help on function scatter in module matplotlib.pyplot:\n",
      "\n",
      "scatter(x, y, s=None, c=None, marker=None, cmap=None, norm=None, vmin=None, vmax=None, alpha=None, linewidths=None, verts=None, edgecolors=None, *, plotnonfinite=False, data=None, **kwargs)\n",
      "    A scatter plot of *y* vs *x* with varying marker size and/or color.\n",
      "    \n",
      "    Parameters\n",
      "    ----------\n",
      "    x, y : array_like, shape (n, )\n",
      "        The data positions.\n",
      "    \n",
      "    s : scalar or array_like, shape (n, ), optional\n",
      "        The marker size in points**2.\n",
      "        Default is ``rcParams['lines.markersize'] ** 2``.\n",
      "    \n",
      "    c : color, sequence, or sequence of color, optional\n",
      "        The marker color. Possible values:\n",
      "    \n",
      "        - A single color format string.\n",
      "        - A sequence of color specifications of length n.\n",
      "        - A sequence of n numbers to be mapped to colors using *cmap* and\n",
      "          *norm*.\n",
      "        - A 2-D array in which the rows are RGB or RGBA.\n",
      "    \n",
      "        Note that *c* should not be a single numeric RGB or RGBA sequence\n",
      "        because that is indistinguishable from an array of values to be\n",
      "        colormapped. If you want to specify the same RGB or RGBA value for\n",
      "        all points, use a 2-D array with a single row.  Otherwise, value-\n",
      "        matching will have precedence in case of a size matching with *x*\n",
      "        and *y*.\n",
      "    \n",
      "        Defaults to ``None``. In that case the marker color is determined\n",
      "        by the value of ``color``, ``facecolor`` or ``facecolors``. In case\n",
      "        those are not specified or ``None``, the marker color is determined\n",
      "        by the next color of the ``Axes``' current \"shape and fill\" color\n",
      "        cycle. This cycle defaults to :rc:`axes.prop_cycle`.\n",
      "    \n",
      "    marker : `~matplotlib.markers.MarkerStyle`, optional\n",
      "        The marker style. *marker* can be either an instance of the class\n",
      "        or the text shorthand for a particular marker.\n",
      "        Defaults to ``None``, in which case it takes the value of\n",
      "        :rc:`scatter.marker` = 'o'.\n",
      "        See `~matplotlib.markers` for more information about marker styles.\n",
      "    \n",
      "    cmap : `~matplotlib.colors.Colormap`, optional, default: None\n",
      "        A `.Colormap` instance or registered colormap name. *cmap* is only\n",
      "        used if *c* is an array of floats. If ``None``, defaults to rc\n",
      "        ``image.cmap``.\n",
      "    \n",
      "    norm : `~matplotlib.colors.Normalize`, optional, default: None\n",
      "        A `.Normalize` instance is used to scale luminance data to 0, 1.\n",
      "        *norm* is only used if *c* is an array of floats. If *None*, use\n",
      "        the default `.colors.Normalize`.\n",
      "    \n",
      "    vmin, vmax : scalar, optional, default: None\n",
      "        *vmin* and *vmax* are used in conjunction with *norm* to normalize\n",
      "        luminance data. If None, the respective min and max of the color\n",
      "        array is used. *vmin* and *vmax* are ignored if you pass a *norm*\n",
      "        instance.\n",
      "    \n",
      "    alpha : scalar, optional, default: None\n",
      "        The alpha blending value, between 0 (transparent) and 1 (opaque).\n",
      "    \n",
      "    linewidths : scalar or array_like, optional, default: None\n",
      "        The linewidth of the marker edges. Note: The default *edgecolors*\n",
      "        is 'face'. You may want to change this as well.\n",
      "        If *None*, defaults to rcParams ``lines.linewidth``.\n",
      "    \n",
      "    edgecolors : {'face', 'none', *None*} or color or sequence of color, optional.\n",
      "        The edge color of the marker. Possible values:\n",
      "    \n",
      "        - 'face': The edge color will always be the same as the face color.\n",
      "        - 'none': No patch boundary will be drawn.\n",
      "        - A Matplotlib color or sequence of color.\n",
      "    \n",
      "        Defaults to ``None``, in which case it takes the value of\n",
      "        :rc:`scatter.edgecolors` = 'face'.\n",
      "    \n",
      "        For non-filled markers, the *edgecolors* kwarg is ignored and\n",
      "        forced to 'face' internally.\n",
      "    \n",
      "    plotnonfinite : boolean, optional, default: False\n",
      "        Set to plot points with nonfinite *c*, in conjunction with\n",
      "        `~matplotlib.colors.Colormap.set_bad`.\n",
      "    \n",
      "    Returns\n",
      "    -------\n",
      "    paths : `~matplotlib.collections.PathCollection`\n",
      "    \n",
      "    Other Parameters\n",
      "    ----------------\n",
      "    **kwargs : `~matplotlib.collections.Collection` properties\n",
      "    \n",
      "    See Also\n",
      "    --------\n",
      "    plot : To plot scatter plots when markers are identical in size and\n",
      "        color.\n",
      "    \n",
      "    Notes\n",
      "    -----\n",
      "    \n",
      "    * The `.plot` function will be faster for scatterplots where markers\n",
      "      don't vary in size or color.\n",
      "    \n",
      "    * Any or all of *x*, *y*, *s*, and *c* may be masked arrays, in which\n",
      "      case all masks will be combined and only unmasked points will be\n",
      "      plotted.\n",
      "    \n",
      "    * Fundamentally, scatter works with 1-D arrays; *x*, *y*, *s*, and *c*\n",
      "      may be input as 2-D arrays, but within scatter they will be\n",
      "      flattened. The exception is *c*, which will be flattened only if its\n",
      "      size matches the size of *x* and *y*.\n",
      "    \n",
      "    .. note::\n",
      "        In addition to the above described arguments, this function can take a\n",
      "        **data** keyword argument. If such a **data** argument is given, the\n",
      "        following arguments are replaced by **data[<arg>]**:\n",
      "    \n",
      "        * All arguments with the following names: 'c', 'color', 'edgecolors', 'facecolor', 'facecolors', 'linewidths', 's', 'x', 'y'.\n",
      "    \n",
      "        Objects passed as **data** must support item access (``data[<arg>]``) and\n",
      "        membership test (``<arg> in data``).\n",
      "\n"
     ]
    }
   ],
   "source": [
    "help(pyplot.scatter)"
   ]
  },
  {
   "cell_type": "markdown",
   "metadata": {
    "colab_type": "text",
    "id": "e5gfSnMb-FrH"
   },
   "source": [
    "Matplotlib can be used to generate more visualization tools e.g. tables. To explore this further, you can refer to matplotlib documentation and try to create a table representing the bitcoin closing prices as a percentage of all recorded prices. e.g. 8150 occurred X% of the time between Nov 22 and Nov 23. Consult with your peers, online resources and finally your moderators if necessary."
   ]
  },
  {
   "cell_type": "markdown",
   "metadata": {
    "colab_type": "text",
    "id": "Opve2byl-FrK"
   },
   "source": [
    "## Plotting functions"
   ]
  },
  {
   "cell_type": "markdown",
   "metadata": {
    "colab_type": "text",
    "id": "NpWN1iLw-FrN"
   },
   "source": [
    "Now, let's experiment with Matplotlib and Numpy. Besides plotting existing data, you can also plot functions using Matplotlib. Earlier on, we also went through how Numpy is useful for mathematical operations on matrices and arrays. In the following steps, we will see how Matplotlib and Numpy can be used together in visualizing functions. How about plotting simple functions like $$y_1 = 2x + 3,$$ and another set of points $$y_2 = -3x - 5?$$\n",
    "\n",
    " \n"
   ]
  },
  {
   "cell_type": "markdown",
   "metadata": {
    "colab_type": "text",
    "id": "ZNdeiEKp-FrR"
   },
   "source": [
    "Let's generate $x$ data points that lie between $-10$ and $10$. We will use the numpy `arange()` function to generate these points."
   ]
  },
  {
   "cell_type": "code",
   "execution_count": 102,
   "metadata": {
    "colab": {},
    "colab_type": "code",
    "id": "qMk6XLMC-FrT"
   },
   "outputs": [],
   "source": [
    "import numpy as np #first import the relevant library"
   ]
  },
  {
   "cell_type": "code",
   "execution_count": 105,
   "metadata": {
    "colab": {},
    "colab_type": "code",
    "id": "nmSJKW4_-Frh"
   },
   "outputs": [],
   "source": [
    "x = np.arange(-10, 10)"
   ]
  },
  {
   "cell_type": "markdown",
   "metadata": {
    "colab_type": "text",
    "id": "YFUOxVl_-Fru"
   },
   "source": [
    "Next, let's generate our $y$ data. Again we use `numpy` (which we renamed `np`). For equation $$y_1 = 2x + 3,$$ we use the variable `y1` in our code for the $y$ values. \n",
    "\n",
    "Using list comprehension, we calculate the question $y_1 = 2x + 3$ and store the information in the variable `y1`."
   ]
  },
  {
   "cell_type": "code",
   "execution_count": 106,
   "metadata": {
    "colab": {},
    "colab_type": "code",
    "id": "vCwrQXc0-Fr0"
   },
   "outputs": [],
   "source": [
    "y1 = [(i*2 + 3) for i in x]"
   ]
  },
  {
   "cell_type": "markdown",
   "metadata": {
    "colab_type": "text",
    "id": "iUySaqxT-Fr-"
   },
   "source": [
    "We now use the `matplotlib` module by calling the function `plot` to plot our data points."
   ]
  },
  {
   "cell_type": "code",
   "execution_count": 107,
   "metadata": {
    "colab": {},
    "colab_type": "code",
    "id": "nRHFWGaH-FsC"
   },
   "outputs": [
    {
     "data": {
      "text/plain": [
       "[<matplotlib.lines.Line2D at 0x203507bc6c8>]"
      ]
     },
     "execution_count": 107,
     "metadata": {},
     "output_type": "execute_result"
    },
    {
     "data": {
      "image/png": "[encoded data removed]",
      "text/plain": [
       "<Figure size 432x288 with 1 Axes>"
      ]
     },
     "metadata": {
      "needs_background": "light"
     },
     "output_type": "display_data"
    }
   ],
   "source": [
    "pyplot.plot(x, y1)"
   ]
  },
  {
   "cell_type": "markdown",
   "metadata": {
    "colab_type": "text",
    "id": "YocAf7Vj-FsK"
   },
   "source": [
    "The `plot` function takes many arguments. The main arguments are the $x$ and $y$ data points. \n",
    "\n",
    "For equation $$y_2 = -3x - 5,$$ we use the variable `y2` in our code for the $y$ values. We can plot this equation on the same plot as the first equation. "
   ]
  },
  {
   "cell_type": "code",
   "execution_count": 108,
   "metadata": {
    "colab": {},
    "colab_type": "code",
    "id": "Zz0Sw9Dq-FsN"
   },
   "outputs": [
    {
     "data": {
      "text/plain": [
       "[<matplotlib.lines.Line2D at 0x2034f2c4208>,\n",
       " <matplotlib.lines.Line2D at 0x2034f5aff08>]"
      ]
     },
     "execution_count": 108,
     "metadata": {},
     "output_type": "execute_result"
    },
    {
     "data": {
      "image/png": "[encoded data removed]",
      "text/plain": [
       "<Figure size 432x288 with 1 Axes>"
      ]
     },
     "metadata": {
      "needs_background": "light"
     },
     "output_type": "display_data"
    }
   ],
   "source": [
    "y2 = [((-3*i) - 5) for i in x]\n",
    "pyplot.plot(x, y1, 'g', x, y2, 'r', marker='*', linewidth=3, alpha=.2)"
   ]
  },
  {
   "cell_type": "markdown",
   "metadata": {
    "colab_type": "text",
    "id": "z5orAexY-FsV"
   },
   "source": [
    "#### Note the additional input arguments\n",
    "\n",
    "    `g`:  will colour the line green. You can choose other options like 'r'for red\n",
    "    `marker='*'`: will draw an asterisk for each data point plotted\n",
    "    `alpha=0.2`: will change the transparency of the line (0<=alpha<=1).\n",
    "    `linewidth=3: sets the width of the line to 3 pixels\n",
    "    \n",
    "   \n",
    "For a complete listing of the styles of lines, see the [`plot() documentation`](http://matplotlib.org/api/pyplot_api.html#matplotlib.pyplot.plot)."
   ]
  },
  {
   "cell_type": "code",
   "execution_count": 112,
   "metadata": {
    "colab": {},
    "colab_type": "code",
    "id": "UHUxKLeM-FsZ"
   },
   "outputs": [
    {
     "data": {
      "text/plain": [
       "[<matplotlib.lines.Line2D at 0x2034f517c08>,\n",
       " <matplotlib.lines.Line2D at 0x2034f524848>,\n",
       " <matplotlib.lines.Line2D at 0x2034f524808>]"
      ]
     },
     "execution_count": 112,
     "metadata": {},
     "output_type": "execute_result"
    },
    {
     "data": {
      "image/png": "[encoded data removed]",
      "text/plain": [
       "<Figure size 432x288 with 1 Axes>"
      ]
     },
     "metadata": {
      "needs_background": "light"
     },
     "output_type": "display_data"
    }
   ],
   "source": [
    "#write your own code changing the input arguments and compare to the plot above\n",
    "y3 = x\n",
    "pyplot.plot(x, y1, 'y', x, y2, 'r', x, y3, 'b',marker='^', linewidth=5, alpha=.5)"
   ]
  },
  {
   "cell_type": "markdown",
   "metadata": {
    "colab_type": "text",
    "id": "8EZiA8Cx-Fsh"
   },
   "source": [
    "<b>Do it yourself exercise</b>: Add a third line to the same plot. This time use a new equation $y = x$. There should be 3 lines on the graph."
   ]
  },
  {
   "cell_type": "markdown",
   "metadata": {
    "colab_type": "text",
    "id": "JCNjCkWN-Fsz"
   },
   "source": [
    "## Modifying your plots\n",
    "\n",
    "You can modify the plot to suit your requirements. You can create a subplot and add axes for different plots to the subplot. You can also change the length of the axes, add labels to the axes, add legends to the plot. Let's illustrate these with a simple example."
   ]
  },
  {
   "cell_type": "code",
   "execution_count": 113,
   "metadata": {
    "colab": {},
    "colab_type": "code",
    "id": "0ZwE1EpY-Fs1"
   },
   "outputs": [],
   "source": [
    "x = np.arange(-10, 10) #create x data similar to Plotting Functions example\n",
    "y = [((-3*i) - 5) for i in x]"
   ]
  },
  {
   "cell_type": "markdown",
   "metadata": {
    "colab_type": "text",
    "id": "d4plynnJ-FtU"
   },
   "source": [
    "### Change length of axes"
   ]
  },
  {
   "cell_type": "code",
   "execution_count": 111,
   "metadata": {
    "colab": {},
    "colab_type": "code",
    "id": "xnnc08zr-FtY"
   },
   "outputs": [
    {
     "data": {
      "text/plain": [
       "[<matplotlib.lines.Line2D at 0x2034f4c2388>]"
      ]
     },
     "execution_count": 111,
     "metadata": {},
     "output_type": "execute_result"
    },
    {
     "data": {
      "image/png": "[encoded data removed]",
      "text/plain": [
       "<Figure size 432x288 with 1 Axes>"
      ]
     },
     "metadata": {
      "needs_background": "light"
     },
     "output_type": "display_data"
    }
   ],
   "source": [
    "fig = pyplot.figure()            # create a figure object\n",
    "ax = pyplot.subplot(111)         # create 1 grid with 1 subplot\n",
    "pyplot.xlim(-30,30)              # change size of horizontal axis\n",
    "pyplot.ylim(-30,30)              # change size of vertical axis\n",
    "ax.plot(x, y)                    # add plot to subplot"
   ]
  },
  {
   "cell_type": "markdown",
   "metadata": {
    "colab_type": "text",
    "id": "_98P68E_-Ftv"
   },
   "source": [
    "### Add labels to your plot\n",
    "\n",
    "We want to plot and label the data points given above. We'll create a subplot and add a title to our subplot. The subplot will also contain a legend. The legend command forces the legend to appear."
   ]
  },
  {
   "cell_type": "code",
   "execution_count": null,
   "metadata": {
    "colab": {},
    "colab_type": "code",
    "id": "K5_jRPiv-Ft5"
   },
   "outputs": [],
   "source": [
    "fig = pyplot.figure()            # create a figure object\n",
    "ax = pyplot.subplot(111)         # create 1 grid with 1 subplot\n",
    "ax.plot(x, y, label=\"$y=-3x-5$\")  # label the subplot. $ indicates that the label should appear as an equation\n",
    "pyplot.title('A line graph')     # add title to figure\n",
    "ax.legend(loc='upper right')      # set location loc of legend to upper left corner "
   ]
  },
  {
   "cell_type": "markdown",
   "metadata": {
    "colab_type": "text",
    "id": "zm9Jagr6-FuG"
   },
   "source": [
    "### Multiple plots in the same figure\n",
    "\n",
    "We can even put more than one plot in a figure by using `subplot()`. For example, we could divide a figure vertically into two subplots, by creating a 1 by 2 grid and positioning the figures in the columns. The first subplot has its own axis, so does the second subplot."
   ]
  },
  {
   "cell_type": "markdown",
   "metadata": {
    "colab_type": "text",
    "id": "w-7u9fKv-FuP"
   },
   "source": [
    "Now, let's create a suplot for the two functions we defined above: y1 and y2."
   ]
  },
  {
   "cell_type": "code",
   "execution_count": 114,
   "metadata": {
    "colab": {},
    "colab_type": "code",
    "id": "jLBNEIdo-FuY"
   },
   "outputs": [
    {
     "data": {
      "text/plain": [
       "[<matplotlib.lines.Line2D at 0x20350adff48>]"
      ]
     },
     "execution_count": 114,
     "metadata": {},
     "output_type": "execute_result"
    },
    {
     "data": {
      "image/png": "[encoded data removed]",
      "text/plain": [
       "<Figure size 432x288 with 2 Axes>"
      ]
     },
     "metadata": {
      "needs_background": "light"
     },
     "output_type": "display_data"
    }
   ],
   "source": [
    "ax = pyplot.subplot(1,2,1)  # 1 by 2 grid, first grid\n",
    "ax1 = pyplot.subplot(1,2,2) # 1 by 2 grid, second grid\n",
    "ax.plot(x, y1)\n",
    "ax1.plot(x,y)\n"
   ]
  },
  {
   "cell_type": "markdown",
   "metadata": {
    "colab_type": "text",
    "collapsed": true,
    "id": "r42a86Eb-Fuj"
   },
   "source": [
    "As always, if you need more information about subploting, you can refer to the help documentation. Uncomment and run the cell below if necessary"
   ]
  },
  {
   "cell_type": "code",
   "execution_count": 115,
   "metadata": {
    "colab": {},
    "colab_type": "code",
    "id": "r8GMt7QC-Fum"
   },
   "outputs": [
    {
     "name": "stdout",
     "output_type": "stream",
     "text": [
      "Help on function subplot in module matplotlib.pyplot:\n",
      "\n",
      "subplot(*args, **kwargs)\n",
      "    Add a subplot to the current figure.\n",
      "    \n",
      "    Wrapper of `.Figure.add_subplot` with a difference in behavior\n",
      "    explained in the notes section.\n",
      "    \n",
      "    Call signatures::\n",
      "    \n",
      "       subplot(nrows, ncols, index, **kwargs)\n",
      "       subplot(pos, **kwargs)\n",
      "       subplot(ax)\n",
      "    \n",
      "    Parameters\n",
      "    ----------\n",
      "    *args\n",
      "        Either a 3-digit integer or three separate integers\n",
      "        describing the position of the subplot. If the three\n",
      "        integers are *nrows*, *ncols*, and *index* in order, the\n",
      "        subplot will take the *index* position on a grid with *nrows*\n",
      "        rows and *ncols* columns. *index* starts at 1 in the upper left\n",
      "        corner and increases to the right.\n",
      "    \n",
      "        *pos* is a three digit integer, where the first digit is the\n",
      "        number of rows, the second the number of columns, and the third\n",
      "        the index of the subplot. i.e. fig.add_subplot(235) is the same as\n",
      "        fig.add_subplot(2, 3, 5). Note that all integers must be less than\n",
      "        10 for this form to work.\n",
      "    \n",
      "    projection : {None, 'aitoff', 'hammer', 'lambert', 'mollweide', 'polar', 'rectilinear', str}, optional\n",
      "        The projection type of the subplot (`~.axes.Axes`). *str* is the name\n",
      "        of a costum projection, see `~matplotlib.projections`. The default\n",
      "        None results in a 'rectilinear' projection.\n",
      "    \n",
      "    polar : boolean, optional\n",
      "        If True, equivalent to projection='polar'.\n",
      "    \n",
      "    sharex, sharey : `~.axes.Axes`, optional\n",
      "        Share the x or y `~matplotlib.axis` with sharex and/or sharey. The\n",
      "        axis will have the same limits, ticks, and scale as the axis of the\n",
      "        shared axes.\n",
      "    \n",
      "    label : str\n",
      "        A label for the returned axes.\n",
      "    \n",
      "    Other Parameters\n",
      "    ----------------\n",
      "    **kwargs\n",
      "        This method also takes the keyword arguments for\n",
      "        the returned axes base class. The keyword arguments for the\n",
      "        rectilinear base class `~.axes.Axes` can be found in\n",
      "        the following table but there might also be other keyword\n",
      "        arguments if another projection is used.\n",
      "          adjustable: {'box', 'datalim'}\n",
      "      agg_filter: a filter function, which takes a (m, n, 3) float array and a dpi value, and returns a (m, n, 3) array\n",
      "      alpha: float\n",
      "      anchor: 2-tuple of floats or {'C', 'SW', 'S', 'SE', ...}\n",
      "      animated: bool\n",
      "      aspect: {'auto', 'equal'} or num\n",
      "      autoscale_on: bool\n",
      "      autoscalex_on: bool\n",
      "      autoscaley_on: bool\n",
      "      axes_locator: Callable[[Axes, Renderer], Bbox]\n",
      "      axisbelow: bool or 'line'\n",
      "      clip_box: `.Bbox`\n",
      "      clip_on: bool\n",
      "      clip_path: [(`~matplotlib.path.Path`, `.Transform`) | `.Patch` | None]\n",
      "      contains: callable\n",
      "      facecolor: color\n",
      "      fc: color\n",
      "      figure: `.Figure`\n",
      "      frame_on: bool\n",
      "      gid: str\n",
      "      in_layout: bool\n",
      "      label: object\n",
      "      navigate: bool\n",
      "      navigate_mode: unknown\n",
      "      path_effects: `.AbstractPathEffect`\n",
      "      picker: None or bool or float or callable\n",
      "      position: [left, bottom, width, height] or `~matplotlib.transforms.Bbox`\n",
      "      rasterization_zorder: float or None\n",
      "      rasterized: bool or None\n",
      "      sketch_params: (scale: float, length: float, randomness: float)\n",
      "      snap: bool or None\n",
      "      title: str\n",
      "      transform: `.Transform`\n",
      "      url: str\n",
      "      visible: bool\n",
      "      xbound: unknown\n",
      "      xlabel: str\n",
      "      xlim: (left: float, right: float)\n",
      "      xmargin: float greater than -0.5\n",
      "      xscale: {\"linear\", \"log\", \"symlog\", \"logit\", ...}\n",
      "      xticklabels: List[str]\n",
      "      xticks: list\n",
      "      ybound: unknown\n",
      "      ylabel: str\n",
      "      ylim: (bottom: float, top: float)\n",
      "      ymargin: float greater than -0.5\n",
      "      yscale: {\"linear\", \"log\", \"symlog\", \"logit\", ...}\n",
      "      yticklabels: List[str]\n",
      "      yticks: list\n",
      "      zorder: float\n",
      "    \n",
      "    Returns\n",
      "    -------\n",
      "    axes : an `.axes.SubplotBase` subclass of `~.axes.Axes` (or a subclass     of `~.axes.Axes`)\n",
      "    \n",
      "        The axes of the subplot. The returned axes base class depends on\n",
      "        the projection used. It is `~.axes.Axes` if rectilinear projection\n",
      "        are used and `.projections.polar.PolarAxes` if polar projection\n",
      "        are used. The returned axes is then a subplot subclass of the\n",
      "        base class.\n",
      "    \n",
      "    Notes\n",
      "    -----\n",
      "    Creating a subplot will delete any pre-existing subplot that overlaps\n",
      "    with it beyond sharing a boundary::\n",
      "    \n",
      "        import matplotlib.pyplot as plt\n",
      "        # plot a line, implicitly creating a subplot(111)\n",
      "        plt.plot([1,2,3])\n",
      "        # now create a subplot which represents the top plot of a grid\n",
      "        # with 2 rows and 1 column. Since this subplot will overlap the\n",
      "        # first, the plot (and its axes) previously created, will be removed\n",
      "        plt.subplot(211)\n",
      "    \n",
      "    If you do not want this behavior, use the `.Figure.add_subplot` method\n",
      "    or the `.pyplot.axes` function instead.\n",
      "    \n",
      "    If the figure already has a subplot with key (*args*,\n",
      "    *kwargs*) then it will simply make that subplot current and\n",
      "    return it.  This behavior is deprecated. Meanwhile, if you do\n",
      "    not want this behavior (i.e., you want to force the creation of a\n",
      "    new subplot), you must use a unique set of args and kwargs.  The axes\n",
      "    *label* attribute has been exposed for this purpose: if you want\n",
      "    two subplots that are otherwise identical to be added to the figure,\n",
      "    make sure you give them unique labels.\n",
      "    \n",
      "    In rare circumstances, `.add_subplot` may be called with a single\n",
      "    argument, a subplot axes instance already created in the\n",
      "    present figure but not in the figure's list of axes.\n",
      "    \n",
      "    See Also\n",
      "    --------\n",
      "    .Figure.add_subplot\n",
      "    .pyplot.subplots\n",
      "    .pyplot.axes\n",
      "    .Figure.subplots\n",
      "    \n",
      "    Examples\n",
      "    --------\n",
      "    ::\n",
      "    \n",
      "        plt.subplot(221)\n",
      "    \n",
      "        # equivalent but more general\n",
      "        ax1=plt.subplot(2, 2, 1)\n",
      "    \n",
      "        # add a subplot with no frame\n",
      "        ax2=plt.subplot(222, frameon=False)\n",
      "    \n",
      "        # add a polar subplot\n",
      "        plt.subplot(223, projection='polar')\n",
      "    \n",
      "        # add a red subplot that shares the x-axis with ax1\n",
      "        plt.subplot(224, sharex=ax1, facecolor='red')\n",
      "    \n",
      "        # delete ax2 from the figure\n",
      "        plt.delaxes(ax2)\n",
      "    \n",
      "        # add ax2 to the figure again\n",
      "        plt.subplot(ax2)\n",
      "\n"
     ]
    }
   ],
   "source": [
    "help(pyplot.subplot)"
   ]
  },
  {
   "cell_type": "markdown",
   "metadata": {
    "colab_type": "text",
    "id": "J3MfslPs-Fut"
   },
   "source": [
    "## References"
   ]
  },
  {
   "cell_type": "markdown",
   "metadata": {
    "colab_type": "text",
    "id": "eDI-ICFk-Fuw"
   },
   "source": [
    "\n",
    "For more information on Matplotlib, see this link: <a href=\"http://matplotlib.org/\">matplotlib</a>\n",
    "\n",
    "For more information on color maps in Matplotlib, see <a href='http://matplotlib.org/examples/color/colormaps_reference.html'>color example code: colormaps_reference.py</a>\n",
    "\n",
    "For more on Seaborn, see <a href=\"http://seaborn.pydata.org\">Seaborn: Statistical Data Visualization</a>\n",
    "\n",
    "For designing charts and visualizations, see this insightful link [Designing Charts and Graphs: How to Choose the Right Data Visualization Types](https://www.datapine.com/blog/how-to-choose-the-right-data-visualization-types/)\n",
    "\n",
    "See the Matplotlib Pyplot gallery for more on different [plots](Matplotlib has great documentation on bar graphs [here](http://matplotlib.org/api/pyplot_api.html#matplotlib.pyplot.bar).\n",
    "\n"
   ]
  }
 ],
 "metadata": {
  "colab": {
   "name": "dav_02_visualizing_data_with_python.ipynb",
   "provenance": [],
   "version": "0.3.2"
  },
  "kernelspec": {
   "display_name": "Python 3",
   "language": "python",
   "name": "python3"
  },
  "language_info": {
   "codemirror_mode": {
    "name": "ipython",
    "version": 3
   },
   "file_extension": ".py",
   "mimetype": "text/x-python",
   "name": "python",
   "nbconvert_exporter": "python",
   "pygments_lexer": "ipython3",
   "version": "3.7.4"
  }
 },
 "nbformat": 4,
 "nbformat_minor": 1
}
